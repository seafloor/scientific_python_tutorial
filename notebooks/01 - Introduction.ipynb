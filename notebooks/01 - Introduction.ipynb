{
 "cells": [
  {
   "cell_type": "markdown",
   "id": "9705a82a-b2b4-4c09-b6d4-3a52e324ca75",
   "metadata": {},
   "source": [
    "# Introduction to Python, iPython and Jupyter notebooks"
   ]
  },
  {
   "cell_type": "markdown",
   "id": "89b426b0-0b58-4b39-89c9-f87facf0df01",
   "metadata": {
    "jp-MarkdownHeadingCollapsed": true,
    "tags": []
   },
   "source": [
    "## Python essentials for R users"
   ]
  },
  {
   "cell_type": "markdown",
   "id": "dfd88336-3614-42e0-9e3f-1d31676dfa1b",
   "metadata": {},
   "source": [
    "### Comparisons with R"
   ]
  },
  {
   "cell_type": "markdown",
   "id": "00a73d14-568a-4371-8408-cbd50a1f2db6",
   "metadata": {},
   "source": [
    "Differences with R\n",
    "- Python was invented in the 80s by Guido van Rossum\n",
    "- It's a general purpose programming language which we can do scientific computing in (rather than a scientific computing language which we can do programming in, like R)\n",
    "- Tabs matter, not curly braces\n",
    "- Assignment is with `=`, not `<-`\n",
    "\n",
    "\n",
    "Similarities to R\n",
    "- Good IDEs are free (e.g. pycharm)\n",
    "- As in R, everything is an object, and functions are first-class objects\n",
    "- Standard equations in the interpreter\n",
    "- numpy arrays in python are roughly the equivalent vectors/matrices in R\n",
    "- pandas Data.Frames are the equivalent of R data.frames"
   ]
  },
  {
   "cell_type": "markdown",
   "id": "2cfb79e5-cbad-4308-8dd1-043991940b43",
   "metadata": {},
   "source": [
    "### The SciPy Ecosytem"
   ]
  },
  {
   "cell_type": "markdown",
   "id": "315fe5dd-91d5-4be1-9eb0-3770e9292885",
   "metadata": {},
   "source": [
    "![image](../images/scipy_stack.png)"
   ]
  },
  {
   "cell_type": "markdown",
   "id": "5aca61e1-927e-4db5-b6dc-14cb59e7f816",
   "metadata": {
    "jp-MarkdownHeadingCollapsed": true,
    "tags": []
   },
   "source": [
    "## iPython and Jupyter essentials for R users"
   ]
  },
  {
   "cell_type": "markdown",
   "id": "31c77641-5872-425c-928c-86f381320a97",
   "metadata": {},
   "source": [
    "### equations"
   ]
  },
  {
   "cell_type": "markdown",
   "id": "dd796d6d-5921-4131-ae32-0d84c70684ff",
   "metadata": {},
   "source": [
    "We can run basic mathematical operations in a code cell and store them in variables, just like in r"
   ]
  },
  {
   "cell_type": "code",
   "execution_count": 1,
   "id": "99829aa6-ab38-430d-8342-569a062833d1",
   "metadata": {},
   "outputs": [],
   "source": [
    "# e.g.\n",
    "x = (7 ** 2) / 3"
   ]
  },
  {
   "cell_type": "markdown",
   "id": "d646bdb0-45b8-497d-9664-79e886a02b1c",
   "metadata": {},
   "source": [
    "### magics"
   ]
  },
  {
   "cell_type": "markdown",
   "id": "68be9bd0-fa62-4d28-8c9d-84a482e796e4",
   "metadata": {},
   "source": [
    "ipython \"magics\" let us do cool things in cells. They are accessed used the `%` symbol. \n",
    "\n",
    "There's a even magic to list common magics: `%quickref`\n",
    "\n",
    "Two of the most commonly used are timing in the notebook, or checking history in ipython."
   ]
  },
  {
   "cell_type": "code",
   "execution_count": 2,
   "id": "b8652478-3577-4e69-bb96-3b8dc9b42ed6",
   "metadata": {},
   "outputs": [],
   "source": [
    "import numpy as np"
   ]
  },
  {
   "cell_type": "code",
   "execution_count": 3,
   "id": "d48072f9-a7ef-42bb-b96f-38876c435e86",
   "metadata": {},
   "outputs": [
    {
     "name": "stdout",
     "output_type": "stream",
     "text": [
      "CPU times: user 27 µs, sys: 0 ns, total: 27 µs\n",
      "Wall time: 4.29 µs\n"
     ]
    },
    {
     "data": {
      "text/plain": [
       "<function __main__.<lambda>(x)>"
      ]
     },
     "execution_count": 3,
     "metadata": {},
     "output_type": "execute_result"
    }
   ],
   "source": [
    "# runs it ones and times it\n",
    "%time lambda x: np.sort(np.random.normal(1000))"
   ]
  },
  {
   "cell_type": "code",
   "execution_count": 4,
   "id": "b691ff06-95c2-40aa-a566-0b31a4041452",
   "metadata": {},
   "outputs": [
    {
     "name": "stdout",
     "output_type": "stream",
     "text": [
      "38.7 ns ± 1.39 ns per loop (mean ± std. dev. of 7 runs, 10,000,000 loops each)\n"
     ]
    }
   ],
   "source": [
    "# runs many (depending on runtime) loops and gives us summary statistics\n",
    "%timeit lambda x: np.sort(np.random.normal(1000))"
   ]
  },
  {
   "cell_type": "code",
   "execution_count": 5,
   "id": "1e1f6471-863c-43ba-b700-926beddfe006",
   "metadata": {},
   "outputs": [
    {
     "name": "stdout",
     "output_type": "stream",
     "text": [
      "# e.g.\n",
      "x = (7 ** 2) / 3\n",
      "import numpy as np\n",
      "# runs it ones and times it\n",
      "%time lambda x: np.sort(np.random.normal(1000))\n",
      "# runs many (depending on runtime) loops and gives us summary statistics\n",
      "%timeit lambda x: np.sort(np.random.normal(1000))\n",
      "# gives us everything we have run\n",
      "%hist\n"
     ]
    }
   ],
   "source": [
    "# gives us everything we have run\n",
    "%hist"
   ]
  },
  {
   "cell_type": "markdown",
   "id": "ba356284-0f58-4563-a4ea-4e45fe0c3f6d",
   "metadata": {},
   "source": [
    "We can also save it to a file as below (again, useful for ipython rather than jupyter)\n",
    "\n",
    "```%history -g -f filename```"
   ]
  },
  {
   "cell_type": "markdown",
   "id": "7323cd63-7e77-4b89-a8cb-a91e453c5148",
   "metadata": {},
   "source": [
    "### accessing bash"
   ]
  },
  {
   "cell_type": "markdown",
   "id": "2722ed90-3d3e-4eea-a5ef-37f6d2bec861",
   "metadata": {},
   "source": [
    "We can run basic bash commands directly from notebook cells"
   ]
  },
  {
   "cell_type": "code",
   "execution_count": 6,
   "id": "2158488a-bdb0-461c-8577-367dcd161cdf",
   "metadata": {},
   "outputs": [
    {
     "data": {
      "text/plain": [
       "'/Users/seafloor/scientific_pythonn_tutorial/notebooks'"
      ]
     },
     "execution_count": 6,
     "metadata": {},
     "output_type": "execute_result"
    }
   ],
   "source": [
    "pwd"
   ]
  },
  {
   "cell_type": "code",
   "execution_count": 7,
   "id": "6a41d5e7-da09-4c5b-952d-af95ce0226c1",
   "metadata": {},
   "outputs": [
    {
     "name": "stdout",
     "output_type": "stream",
     "text": [
      "01 - Introduction.ipynb\n"
     ]
    }
   ],
   "source": [
    "ls"
   ]
  },
  {
   "cell_type": "markdown",
   "id": "c4686b4e-b713-4b9e-8af8-9bd1bc008136",
   "metadata": {},
   "source": [
    "And we can run more complicated lines by adding a `!` to the start"
   ]
  },
  {
   "cell_type": "code",
   "execution_count": 10,
   "id": "4fbd4f7d-62df-4f40-9c91-6a1dab65f543",
   "metadata": {},
   "outputs": [],
   "source": [
    "# will error-out\n",
    "# wc -l ../README.txt"
   ]
  },
  {
   "cell_type": "code",
   "execution_count": 27,
   "id": "a1f42c16-8757-4b76-8841-96f7c325a185",
   "metadata": {},
   "outputs": [
    {
     "name": "stdout",
     "output_type": "stream",
     "text": [
      "      54 ../README.md\n"
     ]
    }
   ],
   "source": [
    "!wc -l ../README.md"
   ]
  },
  {
   "cell_type": "markdown",
   "id": "658084e8-c668-42f1-a30d-029e2ee3edc4",
   "metadata": {},
   "source": [
    "### help"
   ]
  },
  {
   "cell_type": "markdown",
   "id": "765cabcc-b62f-475e-83a7-c8a56f5fd845",
   "metadata": {},
   "source": [
    "We can look-up help using the `?` notation"
   ]
  },
  {
   "cell_type": "code",
   "execution_count": 12,
   "id": "fa7a5eca-6292-40e2-b91f-d50e04d89be8",
   "metadata": {},
   "outputs": [
    {
     "data": {
      "text/plain": [
       "\u001b[0;31mDocstring:\u001b[0m\n",
       "Time execution of a Python statement or expression.\n",
       "\n",
       "The CPU and wall clock times are printed, and the value of the\n",
       "expression (if any) is returned.  Note that under Win32, system time\n",
       "is always reported as 0, since it can not be measured.\n",
       "\n",
       "This function can be used both as a line and cell magic:\n",
       "\n",
       "- In line mode you can time a single-line statement (though multiple\n",
       "  ones can be chained with using semicolons).\n",
       "\n",
       "- In cell mode, you can time the cell body (a directly\n",
       "  following statement raises an error).\n",
       "\n",
       "This function provides very basic timing functionality.  Use the timeit\n",
       "magic for more control over the measurement.\n",
       "\n",
       ".. versionchanged:: 7.3\n",
       "    User variables are no longer expanded,\n",
       "    the magic line is always left unmodified.\n",
       "\n",
       "Examples\n",
       "--------\n",
       "::\n",
       "\n",
       "  In [1]: %time 2**128\n",
       "  CPU times: user 0.00 s, sys: 0.00 s, total: 0.00 s\n",
       "  Wall time: 0.00\n",
       "  Out[1]: 340282366920938463463374607431768211456L\n",
       "\n",
       "  In [2]: n = 1000000\n",
       "\n",
       "  In [3]: %time sum(range(n))\n",
       "  CPU times: user 1.20 s, sys: 0.05 s, total: 1.25 s\n",
       "  Wall time: 1.37\n",
       "  Out[3]: 499999500000L\n",
       "\n",
       "  In [4]: %time print 'hello world'\n",
       "  hello world\n",
       "  CPU times: user 0.00 s, sys: 0.00 s, total: 0.00 s\n",
       "  Wall time: 0.00\n",
       "\n",
       ".. note::\n",
       "    The time needed by Python to compile the given expression will be\n",
       "    reported if it is more than 0.1s.\n",
       "\n",
       "    In the example below, the actual exponentiation is done by Python\n",
       "    at compilation time, so while the expression can take a noticeable\n",
       "    amount of time to compute, that time is purely due to the\n",
       "    compilation::\n",
       "\n",
       "        In [5]: %time 3**9999;\n",
       "        CPU times: user 0.00 s, sys: 0.00 s, total: 0.00 s\n",
       "        Wall time: 0.00 s\n",
       "\n",
       "        In [6]: %time 3**999999;\n",
       "        CPU times: user 0.00 s, sys: 0.00 s, total: 0.00 s\n",
       "        Wall time: 0.00 s\n",
       "        Compiler : 0.78 s\n",
       "\u001b[0;31mFile:\u001b[0m      ~/anaconda3/envs/mml/lib/python3.9/site-packages/IPython/core/magics/execution.py\n"
      ]
     },
     "metadata": {},
     "output_type": "display_data"
    }
   ],
   "source": [
    "?%time"
   ]
  },
  {
   "cell_type": "code",
   "execution_count": 13,
   "id": "1edc3ef8-8927-4af5-a6a3-152e88da7cfe",
   "metadata": {},
   "outputs": [
    {
     "data": {
      "text/plain": [
       "\u001b[0;31mSignature:\u001b[0m\n",
       "\u001b[0mnp\u001b[0m\u001b[0;34m.\u001b[0m\u001b[0mload\u001b[0m\u001b[0;34m(\u001b[0m\u001b[0;34m\u001b[0m\n",
       "\u001b[0;34m\u001b[0m    \u001b[0mfile\u001b[0m\u001b[0;34m,\u001b[0m\u001b[0;34m\u001b[0m\n",
       "\u001b[0;34m\u001b[0m    \u001b[0mmmap_mode\u001b[0m\u001b[0;34m=\u001b[0m\u001b[0;32mNone\u001b[0m\u001b[0;34m,\u001b[0m\u001b[0;34m\u001b[0m\n",
       "\u001b[0;34m\u001b[0m    \u001b[0mallow_pickle\u001b[0m\u001b[0;34m=\u001b[0m\u001b[0;32mFalse\u001b[0m\u001b[0;34m,\u001b[0m\u001b[0;34m\u001b[0m\n",
       "\u001b[0;34m\u001b[0m    \u001b[0mfix_imports\u001b[0m\u001b[0;34m=\u001b[0m\u001b[0;32mTrue\u001b[0m\u001b[0;34m,\u001b[0m\u001b[0;34m\u001b[0m\n",
       "\u001b[0;34m\u001b[0m    \u001b[0mencoding\u001b[0m\u001b[0;34m=\u001b[0m\u001b[0;34m'ASCII'\u001b[0m\u001b[0;34m,\u001b[0m\u001b[0;34m\u001b[0m\n",
       "\u001b[0;34m\u001b[0m\u001b[0;34m)\u001b[0m\u001b[0;34m\u001b[0m\u001b[0;34m\u001b[0m\u001b[0m\n",
       "\u001b[0;31mDocstring:\u001b[0m\n",
       "Load arrays or pickled objects from ``.npy``, ``.npz`` or pickled files.\n",
       "\n",
       ".. warning:: Loading files that contain object arrays uses the ``pickle``\n",
       "             module, which is not secure against erroneous or maliciously\n",
       "             constructed data. Consider passing ``allow_pickle=False`` to\n",
       "             load data that is known not to contain object arrays for the\n",
       "             safer handling of untrusted sources.\n",
       "\n",
       "Parameters\n",
       "----------\n",
       "file : file-like object, string, or pathlib.Path\n",
       "    The file to read. File-like objects must support the\n",
       "    ``seek()`` and ``read()`` methods and must always\n",
       "    be opened in binary mode.  Pickled files require that the\n",
       "    file-like object support the ``readline()`` method as well.\n",
       "mmap_mode : {None, 'r+', 'r', 'w+', 'c'}, optional\n",
       "    If not None, then memory-map the file, using the given mode (see\n",
       "    `numpy.memmap` for a detailed description of the modes).  A\n",
       "    memory-mapped array is kept on disk. However, it can be accessed\n",
       "    and sliced like any ndarray.  Memory mapping is especially useful\n",
       "    for accessing small fragments of large files without reading the\n",
       "    entire file into memory.\n",
       "allow_pickle : bool, optional\n",
       "    Allow loading pickled object arrays stored in npy files. Reasons for\n",
       "    disallowing pickles include security, as loading pickled data can\n",
       "    execute arbitrary code. If pickles are disallowed, loading object\n",
       "    arrays will fail. Default: False\n",
       "\n",
       "    .. versionchanged:: 1.16.3\n",
       "        Made default False in response to CVE-2019-6446.\n",
       "\n",
       "fix_imports : bool, optional\n",
       "    Only useful when loading Python 2 generated pickled files on Python 3,\n",
       "    which includes npy/npz files containing object arrays. If `fix_imports`\n",
       "    is True, pickle will try to map the old Python 2 names to the new names\n",
       "    used in Python 3.\n",
       "encoding : str, optional\n",
       "    What encoding to use when reading Python 2 strings. Only useful when\n",
       "    loading Python 2 generated pickled files in Python 3, which includes\n",
       "    npy/npz files containing object arrays. Values other than 'latin1',\n",
       "    'ASCII', and 'bytes' are not allowed, as they can corrupt numerical\n",
       "    data. Default: 'ASCII'\n",
       "\n",
       "Returns\n",
       "-------\n",
       "result : array, tuple, dict, etc.\n",
       "    Data stored in the file. For ``.npz`` files, the returned instance\n",
       "    of NpzFile class must be closed to avoid leaking file descriptors.\n",
       "\n",
       "Raises\n",
       "------\n",
       "OSError\n",
       "    If the input file does not exist or cannot be read.\n",
       "UnpicklingError\n",
       "    If ``allow_pickle=True``, but the file cannot be loaded as a pickle.\n",
       "ValueError\n",
       "    The file contains an object array, but ``allow_pickle=False`` given.\n",
       "\n",
       "See Also\n",
       "--------\n",
       "save, savez, savez_compressed, loadtxt\n",
       "memmap : Create a memory-map to an array stored in a file on disk.\n",
       "lib.format.open_memmap : Create or load a memory-mapped ``.npy`` file.\n",
       "\n",
       "Notes\n",
       "-----\n",
       "- If the file contains pickle data, then whatever object is stored\n",
       "  in the pickle is returned.\n",
       "- If the file is a ``.npy`` file, then a single array is returned.\n",
       "- If the file is a ``.npz`` file, then a dictionary-like object is\n",
       "  returned, containing ``{filename: array}`` key-value pairs, one for\n",
       "  each file in the archive.\n",
       "- If the file is a ``.npz`` file, the returned value supports the\n",
       "  context manager protocol in a similar fashion to the open function::\n",
       "\n",
       "    with load('foo.npz') as data:\n",
       "        a = data['a']\n",
       "\n",
       "  The underlying file descriptor is closed when exiting the 'with'\n",
       "  block.\n",
       "\n",
       "Examples\n",
       "--------\n",
       "Store data to disk, and load it again:\n",
       "\n",
       ">>> np.save('/tmp/123', np.array([[1, 2, 3], [4, 5, 6]]))\n",
       ">>> np.load('/tmp/123.npy')\n",
       "array([[1, 2, 3],\n",
       "       [4, 5, 6]])\n",
       "\n",
       "Store compressed data to disk, and load it again:\n",
       "\n",
       ">>> a=np.array([[1, 2, 3], [4, 5, 6]])\n",
       ">>> b=np.array([1, 2])\n",
       ">>> np.savez('/tmp/123.npz', a=a, b=b)\n",
       ">>> data = np.load('/tmp/123.npz')\n",
       ">>> data['a']\n",
       "array([[1, 2, 3],\n",
       "       [4, 5, 6]])\n",
       ">>> data['b']\n",
       "array([1, 2])\n",
       ">>> data.close()\n",
       "\n",
       "Mem-map the stored array, and then access the second row\n",
       "directly from disk:\n",
       "\n",
       ">>> X = np.load('/tmp/123.npy', mmap_mode='r')\n",
       ">>> X[1, :]\n",
       "memmap([4, 5, 6])\n",
       "\u001b[0;31mFile:\u001b[0m      ~/anaconda3/envs/mml/lib/python3.9/site-packages/numpy/lib/npyio.py\n",
       "\u001b[0;31mType:\u001b[0m      function\n"
      ]
     },
     "metadata": {},
     "output_type": "display_data"
    }
   ],
   "source": [
    "?np.load"
   ]
  },
  {
   "cell_type": "markdown",
   "id": "f7e5af15-f6a4-4030-a1b5-c3792ce01559",
   "metadata": {},
   "source": [
    "While `?` gives the docstring, `??` gives the full code for the function."
   ]
  },
  {
   "cell_type": "markdown",
   "id": "a96100ac-f418-4e74-a890-333c7a5678c7",
   "metadata": {},
   "source": [
    "We can also use tab-completion to get the arguments and docstring for a function on-the-fly"
   ]
  },
  {
   "cell_type": "markdown",
   "id": "5a5543ed-0e84-45fd-a4ab-58dcf66380b1",
   "metadata": {
    "tags": []
   },
   "source": [
    "### Importing and style"
   ]
  },
  {
   "cell_type": "markdown",
   "id": "4b1aa95f-10ab-4251-94cf-d0582f0d2685",
   "metadata": {},
   "source": [
    "We can run any of the following to import a function or module from a library (package)\n",
    "- `import pandas` (gives us access to everything through pandas.function\n",
    "- `import pandas as pd` (the canonical and recommended way to import)\n",
    "    + other common ones are `import numpy as np`, `import seaborn as sns`, `import matplotlib.pyplot as plt` etc.\n",
    "- `from pandas import read_csv` (perfectly acceptable way if you only want one function)\n",
    "- `from pandas import *` (never do this - brings every function into the namespace)"
   ]
  },
  {
   "cell_type": "markdown",
   "id": "f8febe5b-16bb-47fa-9f2b-39c6f418b23b",
   "metadata": {},
   "source": [
    "There's a well-known import everyone should run if they're going to be making python scripts:"
   ]
  },
  {
   "cell_type": "code",
   "execution_count": 14,
   "id": "5641a250-89f1-4205-ab85-fa9ef6e0b332",
   "metadata": {},
   "outputs": [
    {
     "name": "stdout",
     "output_type": "stream",
     "text": [
      "The Zen of Python, by Tim Peters\n",
      "\n",
      "Beautiful is better than ugly.\n",
      "Explicit is better than implicit.\n",
      "Simple is better than complex.\n",
      "Complex is better than complicated.\n",
      "Flat is better than nested.\n",
      "Sparse is better than dense.\n",
      "Readability counts.\n",
      "Special cases aren't special enough to break the rules.\n",
      "Although practicality beats purity.\n",
      "Errors should never pass silently.\n",
      "Unless explicitly silenced.\n",
      "In the face of ambiguity, refuse the temptation to guess.\n",
      "There should be one-- and preferably only one --obvious way to do it.\n",
      "Although that way may not be obvious at first unless you're Dutch.\n",
      "Now is better than never.\n",
      "Although never is often better than *right* now.\n",
      "If the implementation is hard to explain, it's a bad idea.\n",
      "If the implementation is easy to explain, it may be a good idea.\n",
      "Namespaces are one honking great idea -- let's do more of those!\n"
     ]
    }
   ],
   "source": [
    "import this"
   ]
  },
  {
   "cell_type": "markdown",
   "id": "1b0d2923-694a-407f-91e8-20c9446b9b00",
   "metadata": {},
   "source": [
    "### inspecting objects"
   ]
  },
  {
   "cell_type": "code",
   "execution_count": 15,
   "id": "948a6365-5d6f-47ef-ac71-f8c8b63e1d40",
   "metadata": {},
   "outputs": [
    {
     "data": {
      "text/plain": [
       "float"
      ]
     },
     "execution_count": 15,
     "metadata": {},
     "output_type": "execute_result"
    }
   ],
   "source": [
    "type(x)"
   ]
  },
  {
   "cell_type": "code",
   "execution_count": 16,
   "id": "0fb38a72-ed6e-467f-86cf-7d0f90138f05",
   "metadata": {},
   "outputs": [
    {
     "data": {
      "text/plain": [
       "['__abs__',\n",
       " '__add__',\n",
       " '__bool__',\n",
       " '__ceil__',\n",
       " '__class__',\n",
       " '__delattr__',\n",
       " '__dir__',\n",
       " '__divmod__',\n",
       " '__doc__',\n",
       " '__eq__',\n",
       " '__float__',\n",
       " '__floor__',\n",
       " '__floordiv__',\n",
       " '__format__',\n",
       " '__ge__',\n",
       " '__getattribute__',\n",
       " '__getformat__',\n",
       " '__getnewargs__',\n",
       " '__gt__',\n",
       " '__hash__',\n",
       " '__init__',\n",
       " '__init_subclass__',\n",
       " '__int__',\n",
       " '__le__',\n",
       " '__lt__',\n",
       " '__mod__',\n",
       " '__mul__',\n",
       " '__ne__',\n",
       " '__neg__',\n",
       " '__new__',\n",
       " '__pos__',\n",
       " '__pow__',\n",
       " '__radd__',\n",
       " '__rdivmod__',\n",
       " '__reduce__',\n",
       " '__reduce_ex__',\n",
       " '__repr__',\n",
       " '__rfloordiv__',\n",
       " '__rmod__',\n",
       " '__rmul__',\n",
       " '__round__',\n",
       " '__rpow__',\n",
       " '__rsub__',\n",
       " '__rtruediv__',\n",
       " '__setattr__',\n",
       " '__setformat__',\n",
       " '__sizeof__',\n",
       " '__str__',\n",
       " '__sub__',\n",
       " '__subclasshook__',\n",
       " '__truediv__',\n",
       " '__trunc__',\n",
       " 'as_integer_ratio',\n",
       " 'conjugate',\n",
       " 'fromhex',\n",
       " 'hex',\n",
       " 'imag',\n",
       " 'is_integer',\n",
       " 'real']"
      ]
     },
     "execution_count": 16,
     "metadata": {},
     "output_type": "execute_result"
    }
   ],
   "source": [
    "dir(x)"
   ]
  },
  {
   "cell_type": "markdown",
   "id": "d983c9bb-51e2-41f0-b9ab-77271a7aee98",
   "metadata": {
    "jp-MarkdownHeadingCollapsed": true,
    "tags": []
   },
   "source": [
    "## Getting data in/out"
   ]
  },
  {
   "cell_type": "markdown",
   "id": "7ee00ebe-45dd-4951-ad82-11824dd29436",
   "metadata": {
    "tags": []
   },
   "source": [
    "### making and runnning operations on numpy arrays"
   ]
  },
  {
   "cell_type": "markdown",
   "id": "06376ddd-5be4-4d55-bc4a-298f113274b0",
   "metadata": {},
   "source": [
    "We create numpy arrays from lists and the `np.array()` function"
   ]
  },
  {
   "cell_type": "code",
   "execution_count": 17,
   "id": "b77341b5-45cd-4a25-8014-2019e48aaf1f",
   "metadata": {},
   "outputs": [
    {
     "data": {
      "text/plain": [
       "array([0, 1, 2])"
      ]
     },
     "execution_count": 17,
     "metadata": {},
     "output_type": "execute_result"
    }
   ],
   "source": [
    "# a 1-d array\n",
    "np.array([0, 1, 2])"
   ]
  },
  {
   "cell_type": "markdown",
   "id": "149e2923-f039-425e-8d3a-8f0e6a0f1f57",
   "metadata": {},
   "source": [
    "Numpy arrays are like R matrices in that they are a single data type and can be n-dimensional arrays"
   ]
  },
  {
   "cell_type": "code",
   "execution_count": 18,
   "id": "71d21d26-b8af-484e-b409-01530f386876",
   "metadata": {},
   "outputs": [
    {
     "data": {
      "text/plain": [
       "array([[0, 1, 2],\n",
       "       [3, 4, 5]])"
      ]
     },
     "execution_count": 18,
     "metadata": {},
     "output_type": "execute_result"
    }
   ],
   "source": [
    "# a 2-d array\n",
    "np.array([[0, 1, 2], [3, 4, 5]])"
   ]
  },
  {
   "cell_type": "markdown",
   "id": "ca3ca68e-4be3-4f11-a088-d562cef499bd",
   "metadata": {},
   "source": [
    "We can access attributes of these arrays, like so:"
   ]
  },
  {
   "cell_type": "code",
   "execution_count": 19,
   "id": "e677862e-507f-48e7-90d0-82cac97dd6e3",
   "metadata": {},
   "outputs": [
    {
     "data": {
      "text/plain": [
       "(2, 3)"
      ]
     },
     "execution_count": 19,
     "metadata": {},
     "output_type": "execute_result"
    }
   ],
   "source": [
    "a = np.array([[0, 1, 2], [3, 4, 5]])\n",
    "a.shape"
   ]
  },
  {
   "cell_type": "code",
   "execution_count": 20,
   "id": "3d90f602-a120-4089-a53a-40e5eebc8d62",
   "metadata": {},
   "outputs": [
    {
     "data": {
      "text/plain": [
       "2"
      ]
     },
     "execution_count": 20,
     "metadata": {},
     "output_type": "execute_result"
    }
   ],
   "source": [
    "a.ndim"
   ]
  },
  {
   "cell_type": "markdown",
   "id": "f849ba0b-0aa2-4d9d-aa44-5d7aff9aa210",
   "metadata": {},
   "source": [
    "We can access methods on these arrays too:"
   ]
  },
  {
   "cell_type": "code",
   "execution_count": 21,
   "id": "1cd7cd80-394b-44a9-a059-4afbaf0c6afb",
   "metadata": {},
   "outputs": [
    {
     "data": {
      "text/plain": [
       "15"
      ]
     },
     "execution_count": 21,
     "metadata": {},
     "output_type": "execute_result"
    }
   ],
   "source": [
    "a.sum()"
   ]
  },
  {
   "cell_type": "code",
   "execution_count": 22,
   "id": "31723171-1f30-4223-afc7-5ea49b5b4719",
   "metadata": {},
   "outputs": [
    {
     "data": {
      "text/plain": [
       "array([1.5, 2.5, 3.5])"
      ]
     },
     "execution_count": 22,
     "metadata": {},
     "output_type": "execute_result"
    }
   ],
   "source": [
    "a.mean(axis=0)"
   ]
  },
  {
   "cell_type": "markdown",
   "id": "71e11d3e-e888-419f-82a7-2059e6efbd84",
   "metadata": {},
   "source": [
    "And we can apply other functions from the numpy library to arrays, e.g."
   ]
  },
  {
   "cell_type": "code",
   "execution_count": 23,
   "id": "523a7226-3205-4cbc-84fc-665ddb0aad72",
   "metadata": {},
   "outputs": [
    {
     "data": {
      "text/plain": [
       "array([[ 23,  26,  29,  32],\n",
       "       [ 65,  77,  89, 104]])"
      ]
     },
     "execution_count": 23,
     "metadata": {},
     "output_type": "execute_result"
    }
   ],
   "source": [
    "# dot product of 2x3 and 3x4 matrices = 2x4 matrix\n",
    "np.dot(np.array([[0, 1, 2], [3, 4, 5]]), np.array([[0, 1, 2, 4], [5, 6, 7, 8], [9, 10, 11, 12]]))"
   ]
  },
  {
   "cell_type": "markdown",
   "id": "9defe37d-b663-44dc-933c-7fdb737a7138",
   "metadata": {
    "tags": []
   },
   "source": [
    "### making pandas DataFrames"
   ]
  },
  {
   "cell_type": "code",
   "execution_count": 28,
   "id": "8ee4a664-d6d0-4b2f-9f63-f9432136d485",
   "metadata": {},
   "outputs": [],
   "source": [
    "import pandas as pd"
   ]
  },
  {
   "cell_type": "code",
   "execution_count": 29,
   "id": "8c56b6e5-2b58-4739-9f1a-e22104dc684b",
   "metadata": {},
   "outputs": [
    {
     "data": {
      "text/html": [
       "<div>\n",
       "<style scoped>\n",
       "    .dataframe tbody tr th:only-of-type {\n",
       "        vertical-align: middle;\n",
       "    }\n",
       "\n",
       "    .dataframe tbody tr th {\n",
       "        vertical-align: top;\n",
       "    }\n",
       "\n",
       "    .dataframe thead th {\n",
       "        text-align: right;\n",
       "    }\n",
       "</style>\n",
       "<table border=\"1\" class=\"dataframe\">\n",
       "  <thead>\n",
       "    <tr style=\"text-align: right;\">\n",
       "      <th></th>\n",
       "      <th>this</th>\n",
       "      <th>that</th>\n",
       "    </tr>\n",
       "  </thead>\n",
       "  <tbody>\n",
       "    <tr>\n",
       "      <th>0</th>\n",
       "      <td>0</td>\n",
       "      <td>4</td>\n",
       "    </tr>\n",
       "    <tr>\n",
       "      <th>1</th>\n",
       "      <td>1</td>\n",
       "      <td>5</td>\n",
       "    </tr>\n",
       "    <tr>\n",
       "      <th>2</th>\n",
       "      <td>2</td>\n",
       "      <td>6</td>\n",
       "    </tr>\n",
       "    <tr>\n",
       "      <th>3</th>\n",
       "      <td>3</td>\n",
       "      <td>7</td>\n",
       "    </tr>\n",
       "  </tbody>\n",
       "</table>\n",
       "</div>"
      ],
      "text/plain": [
       "   this  that\n",
       "0     0     4\n",
       "1     1     5\n",
       "2     2     6\n",
       "3     3     7"
      ]
     },
     "execution_count": 29,
     "metadata": {},
     "output_type": "execute_result"
    }
   ],
   "source": [
    "# the named way\n",
    "df = pd.DataFrame({'this': [0, 1, 2, 3],\n",
    "                   'that': [4, 5, 6, 7]})\n",
    "df.head()"
   ]
  },
  {
   "cell_type": "code",
   "execution_count": 30,
   "id": "8b1e0cb8-f4e3-4519-8e76-d5cd077ad2f7",
   "metadata": {},
   "outputs": [
    {
     "data": {
      "text/html": [
       "<div>\n",
       "<style scoped>\n",
       "    .dataframe tbody tr th:only-of-type {\n",
       "        vertical-align: middle;\n",
       "    }\n",
       "\n",
       "    .dataframe tbody tr th {\n",
       "        vertical-align: top;\n",
       "    }\n",
       "\n",
       "    .dataframe thead th {\n",
       "        text-align: right;\n",
       "    }\n",
       "</style>\n",
       "<table border=\"1\" class=\"dataframe\">\n",
       "  <thead>\n",
       "    <tr style=\"text-align: right;\">\n",
       "      <th></th>\n",
       "      <th>this</th>\n",
       "      <th>that</th>\n",
       "    </tr>\n",
       "  </thead>\n",
       "  <tbody>\n",
       "    <tr>\n",
       "      <th>0</th>\n",
       "      <td>-1.114514</td>\n",
       "      <td>-0.185559</td>\n",
       "    </tr>\n",
       "    <tr>\n",
       "      <th>1</th>\n",
       "      <td>0.715849</td>\n",
       "      <td>0.785909</td>\n",
       "    </tr>\n",
       "    <tr>\n",
       "      <th>2</th>\n",
       "      <td>-0.279235</td>\n",
       "      <td>0.969821</td>\n",
       "    </tr>\n",
       "    <tr>\n",
       "      <th>3</th>\n",
       "      <td>0.197501</td>\n",
       "      <td>0.367976</td>\n",
       "    </tr>\n",
       "  </tbody>\n",
       "</table>\n",
       "</div>"
      ],
      "text/plain": [
       "       this      that\n",
       "0 -1.114514 -0.185559\n",
       "1  0.715849  0.785909\n",
       "2 -0.279235  0.969821\n",
       "3  0.197501  0.367976"
      ]
     },
     "execution_count": 30,
     "metadata": {},
     "output_type": "execute_result"
    }
   ],
   "source": [
    "# from a numpy array\n",
    "df = pd.DataFrame(np.random.normal(size=(4, 2)),\n",
    "                  columns=['this', 'that'])\n",
    "df.head()"
   ]
  },
  {
   "cell_type": "markdown",
   "id": "cc424b22-390a-4b90-b173-1349b22789c8",
   "metadata": {},
   "source": [
    "### reading files"
   ]
  },
  {
   "cell_type": "code",
   "execution_count": 43,
   "id": "79db7681-b597-4e7a-bf7c-491275328faa",
   "metadata": {},
   "outputs": [],
   "source": [
    "import io"
   ]
  },
  {
   "cell_type": "code",
   "execution_count": 44,
   "id": "5140227f-4471-4065-b084-c182d42877d2",
   "metadata": {},
   "outputs": [],
   "source": [
    "# reading in a vcf\n",
    "def read_vcf(path):\n",
    "    with open(path, 'r') as f:\n",
    "        lines = [l for l in f if not l.startswith('##')]\n",
    "    df = (pd.read_csv(io.StringIO(''.join(lines)),\n",
    "                      dtype={'#CHROM': int, 'POS': int, 'ID': str, 'REF': str, 'ALT': str,\n",
    "                             'QUAL': str, 'FILTER': str, 'INFO': str},\n",
    "                      sep='\\t'))\n",
    "    \n",
    "    return df"
   ]
  },
  {
   "cell_type": "code",
   "execution_count": 45,
   "id": "06a521f0-8a47-4b86-91cd-1db37a8008d9",
   "metadata": {},
   "outputs": [
    {
     "data": {
      "text/html": [
       "<div>\n",
       "<style scoped>\n",
       "    .dataframe tbody tr th:only-of-type {\n",
       "        vertical-align: middle;\n",
       "    }\n",
       "\n",
       "    .dataframe tbody tr th {\n",
       "        vertical-align: top;\n",
       "    }\n",
       "\n",
       "    .dataframe thead th {\n",
       "        text-align: right;\n",
       "    }\n",
       "</style>\n",
       "<table border=\"1\" class=\"dataframe\">\n",
       "  <thead>\n",
       "    <tr style=\"text-align: right;\">\n",
       "      <th></th>\n",
       "      <th>#CHROM</th>\n",
       "      <th>POS</th>\n",
       "      <th>ID</th>\n",
       "      <th>REF</th>\n",
       "      <th>ALT</th>\n",
       "      <th>QUAL</th>\n",
       "      <th>FILTER</th>\n",
       "      <th>INFO</th>\n",
       "    </tr>\n",
       "  </thead>\n",
       "  <tbody>\n",
       "    <tr>\n",
       "      <th>0</th>\n",
       "      <td>22</td>\n",
       "      <td>16287538</td>\n",
       "      <td>Affx-52233492</td>\n",
       "      <td>C</td>\n",
       "      <td>G</td>\n",
       "      <td>.</td>\n",
       "      <td>.</td>\n",
       "      <td>.</td>\n",
       "    </tr>\n",
       "    <tr>\n",
       "      <th>1</th>\n",
       "      <td>22</td>\n",
       "      <td>16287557</td>\n",
       "      <td>rs200923174</td>\n",
       "      <td>G</td>\n",
       "      <td>C</td>\n",
       "      <td>.</td>\n",
       "      <td>.</td>\n",
       "      <td>.</td>\n",
       "    </tr>\n",
       "    <tr>\n",
       "      <th>2</th>\n",
       "      <td>22</td>\n",
       "      <td>16287585</td>\n",
       "      <td>Affx-80289661</td>\n",
       "      <td>A</td>\n",
       "      <td>AC</td>\n",
       "      <td>.</td>\n",
       "      <td>.</td>\n",
       "      <td>.</td>\n",
       "    </tr>\n",
       "    <tr>\n",
       "      <th>3</th>\n",
       "      <td>22</td>\n",
       "      <td>16287663</td>\n",
       "      <td>Affx-80289662</td>\n",
       "      <td>T</td>\n",
       "      <td>TC</td>\n",
       "      <td>.</td>\n",
       "      <td>.</td>\n",
       "      <td>.</td>\n",
       "    </tr>\n",
       "    <tr>\n",
       "      <th>4</th>\n",
       "      <td>22</td>\n",
       "      <td>16287779</td>\n",
       "      <td>Affx-52336937</td>\n",
       "      <td>C</td>\n",
       "      <td>CT</td>\n",
       "      <td>.</td>\n",
       "      <td>.</td>\n",
       "      <td>.</td>\n",
       "    </tr>\n",
       "  </tbody>\n",
       "</table>\n",
       "</div>"
      ],
      "text/plain": [
       "   #CHROM       POS             ID REF ALT QUAL FILTER INFO\n",
       "0      22  16287538  Affx-52233492   C   G    .      .    .\n",
       "1      22  16287557    rs200923174   G   C    .      .    .\n",
       "2      22  16287585  Affx-80289661   A  AC    .      .    .\n",
       "3      22  16287663  Affx-80289662   T  TC    .      .    .\n",
       "4      22  16287779  Affx-52336937   C  CT    .      .    ."
      ]
     },
     "execution_count": 45,
     "metadata": {},
     "output_type": "execute_result"
    }
   ],
   "source": [
    "df = read_vcf('../data/example.vcf')\n",
    "df.head()"
   ]
  },
  {
   "cell_type": "code",
   "execution_count": 32,
   "id": "0a274d5d-f64d-46be-81ff-2082bd4073d1",
   "metadata": {},
   "outputs": [],
   "source": [
    "# reading in a bim file\n",
    "def read_bim(f):\n",
    "    df = pd.read_csv(f, sep='\\s+')\n",
    "    df.columns = ['#CHROM', 'ID', 'CM', 'POS', 'ALT', 'REF']\n",
    "\n",
    "    return df"
   ]
  },
  {
   "cell_type": "code",
   "execution_count": 46,
   "id": "885bcf5c-91c0-4616-87e7-6cb9b44e279b",
   "metadata": {},
   "outputs": [
    {
     "data": {
      "text/html": [
       "<div>\n",
       "<style scoped>\n",
       "    .dataframe tbody tr th:only-of-type {\n",
       "        vertical-align: middle;\n",
       "    }\n",
       "\n",
       "    .dataframe tbody tr th {\n",
       "        vertical-align: top;\n",
       "    }\n",
       "\n",
       "    .dataframe thead th {\n",
       "        text-align: right;\n",
       "    }\n",
       "</style>\n",
       "<table border=\"1\" class=\"dataframe\">\n",
       "  <thead>\n",
       "    <tr style=\"text-align: right;\">\n",
       "      <th></th>\n",
       "      <th>#CHROM</th>\n",
       "      <th>ID</th>\n",
       "      <th>CM</th>\n",
       "      <th>POS</th>\n",
       "      <th>ALT</th>\n",
       "      <th>REF</th>\n",
       "    </tr>\n",
       "  </thead>\n",
       "  <tbody>\n",
       "    <tr>\n",
       "      <th>0</th>\n",
       "      <td>22</td>\n",
       "      <td>Affx-52233492</td>\n",
       "      <td>0</td>\n",
       "      <td>16287538</td>\n",
       "      <td>G</td>\n",
       "      <td>C</td>\n",
       "    </tr>\n",
       "    <tr>\n",
       "      <th>1</th>\n",
       "      <td>22</td>\n",
       "      <td>rs200923174</td>\n",
       "      <td>0</td>\n",
       "      <td>16287557</td>\n",
       "      <td>C</td>\n",
       "      <td>G</td>\n",
       "    </tr>\n",
       "    <tr>\n",
       "      <th>2</th>\n",
       "      <td>22</td>\n",
       "      <td>Affx-80289661</td>\n",
       "      <td>0</td>\n",
       "      <td>16287585</td>\n",
       "      <td>AC</td>\n",
       "      <td>A</td>\n",
       "    </tr>\n",
       "    <tr>\n",
       "      <th>3</th>\n",
       "      <td>22</td>\n",
       "      <td>Affx-80289662</td>\n",
       "      <td>0</td>\n",
       "      <td>16287663</td>\n",
       "      <td>TC</td>\n",
       "      <td>T</td>\n",
       "    </tr>\n",
       "    <tr>\n",
       "      <th>4</th>\n",
       "      <td>22</td>\n",
       "      <td>Affx-52336937</td>\n",
       "      <td>0</td>\n",
       "      <td>16287779</td>\n",
       "      <td>CT</td>\n",
       "      <td>C</td>\n",
       "    </tr>\n",
       "  </tbody>\n",
       "</table>\n",
       "</div>"
      ],
      "text/plain": [
       "   #CHROM             ID  CM       POS ALT REF\n",
       "0      22  Affx-52233492   0  16287538   G   C\n",
       "1      22    rs200923174   0  16287557   C   G\n",
       "2      22  Affx-80289661   0  16287585  AC   A\n",
       "3      22  Affx-80289662   0  16287663  TC   T\n",
       "4      22  Affx-52336937   0  16287779  CT   C"
      ]
     },
     "execution_count": 46,
     "metadata": {},
     "output_type": "execute_result"
    }
   ],
   "source": [
    "df = read_bim('../data/example.bim')\n",
    "df.head()"
   ]
  },
  {
   "cell_type": "code",
   "execution_count": 33,
   "id": "4572708e-9c17-43fa-a20a-37077cf0c81b",
   "metadata": {},
   "outputs": [],
   "source": [
    "# reading in a fam file\n",
    "def read_fam(f):\n",
    "    df = pd.read_csv(f, sep='\\s+')\n",
    "    df.columns = ['FID', 'IID', 'PAT', 'MAT', 'SEX', 'PHENO']\n",
    "    \n",
    "    return df"
   ]
  },
  {
   "cell_type": "code",
   "execution_count": 47,
   "id": "7a922636-bd81-407d-9e94-0a179217c010",
   "metadata": {},
   "outputs": [
    {
     "data": {
      "text/html": [
       "<div>\n",
       "<style scoped>\n",
       "    .dataframe tbody tr th:only-of-type {\n",
       "        vertical-align: middle;\n",
       "    }\n",
       "\n",
       "    .dataframe tbody tr th {\n",
       "        vertical-align: top;\n",
       "    }\n",
       "\n",
       "    .dataframe thead th {\n",
       "        text-align: right;\n",
       "    }\n",
       "</style>\n",
       "<table border=\"1\" class=\"dataframe\">\n",
       "  <thead>\n",
       "    <tr style=\"text-align: right;\">\n",
       "      <th></th>\n",
       "      <th>FID</th>\n",
       "      <th>IID</th>\n",
       "      <th>PAT</th>\n",
       "      <th>MAT</th>\n",
       "      <th>SEX</th>\n",
       "      <th>PHENO</th>\n",
       "    </tr>\n",
       "  </thead>\n",
       "  <tbody>\n",
       "    <tr>\n",
       "      <th>0</th>\n",
       "      <td>2345</td>\n",
       "      <td>2345</td>\n",
       "      <td>0</td>\n",
       "      <td>0</td>\n",
       "      <td>1</td>\n",
       "      <td>1</td>\n",
       "    </tr>\n",
       "    <tr>\n",
       "      <th>1</th>\n",
       "      <td>3456</td>\n",
       "      <td>3456</td>\n",
       "      <td>0</td>\n",
       "      <td>0</td>\n",
       "      <td>1</td>\n",
       "      <td>2</td>\n",
       "    </tr>\n",
       "    <tr>\n",
       "      <th>2</th>\n",
       "      <td>4567</td>\n",
       "      <td>4567</td>\n",
       "      <td>0</td>\n",
       "      <td>0</td>\n",
       "      <td>2</td>\n",
       "      <td>1</td>\n",
       "    </tr>\n",
       "    <tr>\n",
       "      <th>3</th>\n",
       "      <td>5678</td>\n",
       "      <td>5678</td>\n",
       "      <td>0</td>\n",
       "      <td>0</td>\n",
       "      <td>1</td>\n",
       "      <td>1</td>\n",
       "    </tr>\n",
       "    <tr>\n",
       "      <th>4</th>\n",
       "      <td>6789</td>\n",
       "      <td>6789</td>\n",
       "      <td>0</td>\n",
       "      <td>0</td>\n",
       "      <td>2</td>\n",
       "      <td>1</td>\n",
       "    </tr>\n",
       "  </tbody>\n",
       "</table>\n",
       "</div>"
      ],
      "text/plain": [
       "    FID   IID  PAT  MAT  SEX  PHENO\n",
       "0  2345  2345    0    0    1      1\n",
       "1  3456  3456    0    0    1      2\n",
       "2  4567  4567    0    0    2      1\n",
       "3  5678  5678    0    0    1      1\n",
       "4  6789  6789    0    0    2      1"
      ]
     },
     "execution_count": 47,
     "metadata": {},
     "output_type": "execute_result"
    }
   ],
   "source": [
    "df = read_fam('../data/example.fam')\n",
    "df.head()"
   ]
  },
  {
   "cell_type": "markdown",
   "id": "bd62bfed-f3c7-4173-9133-ef77a8fae5bb",
   "metadata": {},
   "source": [
    "Common arguments to add:\n",
    "  - `sep='\\t'` or `sep='\\s+'` (needed for sumstats or some plink outputs)\n",
    "  - `compression='gzip'`\n",
    "  - `header=None`\n",
    "  - `usecols=['rs111', 'rs222']`\n",
    "  - `na_values=99`"
   ]
  },
  {
   "cell_type": "markdown",
   "id": "a225f963-c9a2-40ff-976c-bcd8b830cf06",
   "metadata": {
    "jp-MarkdownHeadingCollapsed": true,
    "tags": []
   },
   "source": [
    "### extra: reading multiple files"
   ]
  },
  {
   "cell_type": "code",
   "execution_count": 34,
   "id": "14609a97-85fb-4109-8135-b96d871fae22",
   "metadata": {},
   "outputs": [],
   "source": [
    "# reading in multiple files\n",
    "from glob import glob\n",
    "files = sorted(glob('../data/*.csv'))\n",
    "# df = pd.concat([pd.read_csv(f) for f in files])"
   ]
  },
  {
   "cell_type": "markdown",
   "id": "fcb29ccf-c887-49ba-9b26-75da6794cff1",
   "metadata": {},
   "source": [
    "reading multple files like this uses a list comprehension (a for loop that's written as a one-liner and which saves the output as a list). \n",
    "\n",
    "Format is:\n",
    "- l = [f for f in files] # just lists all files\n",
    "- l = [pd.read_csv(f) for f in files] # reads all files\n",
    "- l = [f for f in files if 'chromosome_x' not in f] # reads only autosomes by adding an if statement\n",
    "- l = [f if 'chromosome_x' not in f else print(f'skipping {f}') for f in files] # same but with logging using else statement"
   ]
  },
  {
   "cell_type": "markdown",
   "id": "0390cbeb-f61a-48e1-a35d-a10cbe5f6b07",
   "metadata": {},
   "source": [
    "### writing files"
   ]
  },
  {
   "cell_type": "code",
   "execution_count": 35,
   "id": "b42e95e2-353b-465a-a83b-e55d3c0c2d27",
   "metadata": {},
   "outputs": [],
   "source": [
    "# writing a SNP list for plink in/exclusions\n",
    "# df['ID'].to_csv(f, header=None, index=False)"
   ]
  },
  {
   "cell_type": "code",
   "execution_count": 36,
   "id": "fdf440ef-0eed-40ed-88aa-18a90ac57c31",
   "metadata": {},
   "outputs": [],
   "source": [
    "# writing ID list for plink in/exclusions\n",
    "# df.loc[:, ['FID', 'IID']].to_csv(f, index=False, sep='\\t', header=None)"
   ]
  },
  {
   "cell_type": "code",
   "execution_count": 37,
   "id": "3e22fb78-f504-4528-8e3f-f67841837ba0",
   "metadata": {},
   "outputs": [],
   "source": [
    "# writing a VCF\n",
    "def write_vcf(data, vcf_file, chrom='#CHROM', pos='POS', ids='ID', ref='REF', alt='ALT'):\n",
    "    with open(vcf_file, 'w') as f:\n",
    "        f.write('##fileformat=VCFv4.2\\n'\n",
    "                '#CHROM\\tPOS\\tID\\tREF\\tALT\\tQUAL\\tFILTER\\tINFO\\n')\n",
    "\n",
    "    (data.loc[:, [chrom, pos, ids, ref, alt]]\n",
    "         .assign(QUAL='.', FILTER='.', INFO='.')\n",
    "         .to_csv(vcf_file, sep='\\t', index=False, header=None, mode='a'))"
   ]
  },
  {
   "cell_type": "code",
   "execution_count": 38,
   "id": "cd5c6cc7-d3a5-4f61-8c0e-7f986fba1cf7",
   "metadata": {},
   "outputs": [],
   "source": [
    "def write_bim(data, f, chrom='#CHROM', pos='POS', ids='ID', ref='REF', alt='ALT'):\n",
    "    (df.assign(CM=0)\n",
    "       .loc[:, [chrom, ids, 'CM', pos, alt, ref]]\n",
    "       .to_csv(f, sep='\\t', index=False, header=None))"
   ]
  },
  {
   "cell_type": "markdown",
   "id": "95414401-0b5b-45e4-a8bb-84176072e1f0",
   "metadata": {
    "jp-MarkdownHeadingCollapsed": true,
    "tags": []
   },
   "source": [
    "# Basics of working with dataframes"
   ]
  },
  {
   "cell_type": "markdown",
   "id": "b4ff4e26-adc8-40a3-8e95-be32a0798c2a",
   "metadata": {},
   "source": [
    "To cover:\n",
    "- accessing columns and index\n",
    "- converting to numpy\n",
    "- square bracket notation but with .loc and .iloc\n",
    "- adding new columns\n",
    "- sorting"
   ]
  }
 ],
 "metadata": {
  "kernelspec": {
   "display_name": "Python 3 (ipykernel)",
   "language": "python",
   "name": "python3"
  },
  "language_info": {
   "codemirror_mode": {
    "name": "ipython",
    "version": 3
   },
   "file_extension": ".py",
   "mimetype": "text/x-python",
   "name": "python",
   "nbconvert_exporter": "python",
   "pygments_lexer": "ipython3",
   "version": "3.9.13"
  }
 },
 "nbformat": 4,
 "nbformat_minor": 5
}
